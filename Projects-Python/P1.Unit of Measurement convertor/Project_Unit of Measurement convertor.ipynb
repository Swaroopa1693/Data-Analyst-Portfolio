{
 "cells": [
  {
   "cell_type": "markdown",
   "metadata": {},
   "source": [
    "# Project_Unit of Measurement Convertor:\n",
    "\n",
    "\n",
    "    "
   ]
  },
  {
   "cell_type": "markdown",
   "metadata": {},
   "source": [
    "## Table of content:\n",
    "    1) convert from inches to feet/yard\n",
    "    2) convert from feet to inches/yard\n",
    "    3) convert from yard to inches/feet"
   ]
  },
  {
   "cell_type": "code",
   "execution_count": 60,
   "metadata": {},
   "outputs": [
    {
     "name": "stdout",
     "output_type": "stream",
     "text": [
      "Enter starting unit of measurement[inches, feet, yards] :in\n",
      "Enter unit of measurement to convert to[inches, feet, yards]:yd\n",
      "Enter the measurement in inches: 87\n",
      "Result: 87 Inches =  2.42 Yard\n"
     ]
    }
   ],
   "source": [
    "# Code for Inputing a number to see the coversion of measurements\n",
    "\n",
    "convert_from = input('Enter starting unit of measurement[inches, feet, yards] :')\n",
    "\n",
    "convert_to = input('Enter unit of measurement to convert to[inches, feet, yards]:')\n",
    "\n",
    "\n",
    "# ---- Part 1 --------------\n",
    "# code to convert inches to feet/yard\n",
    "\n",
    "if convert_from.lower() in ['inches','inch','in']:\n",
    "    number_to_inches = int(input(\"Enter the measurement in inches: \"))\n",
    "    \n",
    "    if convert_to.lower() in ['feet','foot','ft']:\n",
    "        print(\"Result: \" + str(number_to_inches) + \" Inches =  \" +  str(round(number_to_inches/ 12,2)) + \" Feet\")\n",
    "    elif convert_to.lower() in ['yards','yard','yd','yds']:\n",
    "        print(\"Result: \" + str(number_to_inches) + \" Inches =  \" +  str(round(number_to_inches / 36,2)) + \" Yard\")\n",
    "    else:\n",
    "        print('your input was incorrect[inches, feet, yards]')\n",
    "    \n",
    "\n",
    "    \n",
    "# ---- Part 2 --------------\n",
    "# code to convert feet to inches/yard\n",
    "\n",
    "elif convert_from.lower() in ['feet','foot','ft']:\n",
    "    number_to_feet = int(input('Enter the measurement in feet: '))\n",
    "    \n",
    "    if convert_to.lower() in ['inches','inch','in']:\n",
    "        print(\"Result: \" + str(number_to_feet) + \" Feet =  \" +  str(round(number_to_feet * 12)) + \" Inches\")\n",
    "    elif convert_to.lower() in ['yards','yard','yd','yds']:\n",
    "        print(\"Result: \" + str(number_to_feet) + \" Feet =  \" +  str(round(number_to_feet / 3,2)) + \" Yard\")\n",
    "    else:\n",
    "        print('Please Enter either Feet, Inches or Yards')\n",
    "        \n",
    "\n",
    "\n",
    "# ---- Part 3 --------------     \n",
    "# code to convert yard to inches/feet \n",
    "\n",
    "elif convert_from.lower() in ['yards','yard','yd','yds']:\n",
    "    number_to_yards = int(input('Enter the measurement in yard: '))\n",
    "    \n",
    "    if convert_to.lower() in ['inches','inch','in']:\n",
    "        print(\"Result: \" + str(number_to_yards) + \" Yard =  \" +  str(round(number_to_yards * 36)) + \" Inches\")\n",
    "    elif convert_to.lower() in ['feet','foot','ft']:\n",
    "        print(\"Result: \" + str(number_to_yards) + \" Yard =  \" +  str(round(number_to_yards * 3)) + \" Feet\")\n",
    "        \n",
    "    else:\n",
    "        print('Please Enter either Feet, Inches or Yards')\n",
    "        \n",
    "        \n",
    "else:\n",
    "    print('Please Enter either Feet, Inches or Yards')\n",
    "\n",
    "    \n",
    "    \n"
   ]
  },
  {
   "cell_type": "code",
   "execution_count": null,
   "metadata": {},
   "outputs": [],
   "source": []
  },
  {
   "cell_type": "code",
   "execution_count": null,
   "metadata": {},
   "outputs": [],
   "source": []
  },
  {
   "cell_type": "code",
   "execution_count": null,
   "metadata": {},
   "outputs": [],
   "source": []
  }
 ],
 "metadata": {
  "kernelspec": {
   "display_name": "Python 3",
   "language": "python",
   "name": "python3"
  },
  "language_info": {
   "codemirror_mode": {
    "name": "ipython",
    "version": 3
   },
   "file_extension": ".py",
   "mimetype": "text/x-python",
   "name": "python",
   "nbconvert_exporter": "python",
   "pygments_lexer": "ipython3",
   "version": "3.6.4"
  }
 },
 "nbformat": 4,
 "nbformat_minor": 2
}
